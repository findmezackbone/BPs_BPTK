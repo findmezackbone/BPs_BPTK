{
 "cells": [
  {
   "cell_type": "code",
   "execution_count": 96,
   "metadata": {},
   "outputs": [],
   "source": [
    "import numpy as np\n",
    "from tqdm import tqdm \n",
    "import torch\n",
    "import numpy as np\n",
    "import random\n",
    "import itertools\n",
    "import torch\n",
    "import torch.nn as nn\n",
    "import torch.optim as optim\n",
    "from torch.utils.data import DataLoader, TensorDataset\n",
    "from sklearn.model_selection import train_test_split\n",
    "import numpy as np\n",
    "from tqdm import tqdm\n",
    "from sklearn.preprocessing import StandardScaler\n",
    "import sys\n",
    "sys.path.append(\"D:\\\\xjr\\\\BPs_BPTK\\\\Python\") \n",
    "from BPS_init_function_MultiParas import BPS_BPTK_MultiParas\n",
    "import matplotlib.pyplot as plt\n",
    "plt.rcParams['font.sans-serif']=['SimHei'] # 用来正常显示中文标签\n",
    "plt.rcParams['axes.unicode_minus']=False # 用来正常显示负号\n",
    "from sklearn.metrics import r2_score\n",
    "import scipy.stats as stats\n",
    "import os\n",
    "os.chdir('d:\\\\xjr\\\\BPs_BPTK')\n",
    "import time\n"
   ]
  },
  {
   "cell_type": "code",
   "execution_count": 97,
   "metadata": {},
   "outputs": [],
   "source": [
    "id = 0\n",
    "timel = np.arange(0,75,0.005)"
   ]
  },
  {
   "cell_type": "code",
   "execution_count": 98,
   "metadata": {},
   "outputs": [
    {
     "name": "stdout",
     "output_type": "stream",
     "text": [
      "[[11.95016  6.1184   4.53204]] [[13.44393  6.1184   3.7767 ]] [[14.9377   6.73024  3.7767 ]] [[14.9377   5.50656  3.7767 ]] [[14.9377   6.1184   4.15437]] [[14.9377   6.1184   3.39903]]\n"
     ]
    }
   ],
   "source": [
    "a0= np.array([[14.9377, 6.1184, 3.7767]])\n",
    "a1= np.array([[14.9377, 6.1184, 3.7767]])\n",
    "a1[0,0] = a1[0,0]*0.8\n",
    "a1[0,2] = a1[0,2]*1.2\n",
    "a2= np.array([[14.9377, 6.1184, 3.7767]])\n",
    "a2[0,0] = a2[0,0]*0.9\n",
    "\n",
    "a3= np.array([[14.9377, 6.1184, 3.7767]])\n",
    "a3[0,1] = a3[0,1]*1.1\n",
    "a4= np.array([[14.9377, 6.1184, 3.7767]])\n",
    "a4[0,1] = a4[0,1]*0.9\n",
    "\n",
    "a5= np.array([[14.9377, 6.1184, 3.7767]])\n",
    "a5[0,2] = a5[0,2]*1.1\n",
    "a6= np.array([[14.9377, 6.1184, 3.7767]])\n",
    "a6[0,2] = a6[0,2]*0.9\n",
    "\n",
    "print(a1,a2,a3,a4,a5,a6)\n"
   ]
  },
  {
   "cell_type": "code",
   "execution_count": 99,
   "metadata": {},
   "outputs": [
    {
     "name": "stderr",
     "output_type": "stream",
     "text": [
      "100%|██████████| 1/1 [00:00<00:00, 12.05it/s]"
     ]
    },
    {
     "name": "stdout",
     "output_type": "stream",
     "text": [
      "C_max为0.003059492817094731\n",
      "AUC为15.62855574620419\n"
     ]
    },
    {
     "name": "stderr",
     "output_type": "stream",
     "text": [
      "\n"
     ]
    }
   ],
   "source": [
    "\n",
    "data0,_,_ =BPS_BPTK_MultiParas(t = timel,volunteer_ID =id, paras =a0,mode = '63')\n",
    "#plt.plot(timel, data1[0,:])\n",
    "plt.show()\n",
    "max = np.max(data0)\n",
    "AUC = np.sum(data0)\n",
    "print(f'C_max为{max}')\n",
    "print(f'AUC为{AUC}')"
   ]
  },
  {
   "cell_type": "code",
   "execution_count": 106,
   "metadata": {},
   "outputs": [
    {
     "name": "stderr",
     "output_type": "stream",
     "text": [
      "100%|██████████| 1/1 [00:00<00:00, 16.68it/s]"
     ]
    },
    {
     "name": "stdout",
     "output_type": "stream",
     "text": [
      "C_max为0.0031015563210704893\n",
      "C_max百分比变化为1.3748521892495105%\n",
      "AUC为3.4462240302180804\n",
      "AUC百分比变化为-77.94918426128346%\n"
     ]
    },
    {
     "name": "stderr",
     "output_type": "stream",
     "text": [
      "\n"
     ]
    }
   ],
   "source": [
    "\n",
    "data0,_,_ =BPS_BPTK_MultiParas(t = timel,volunteer_ID =id, paras =a1,mode = '63')\n",
    "#plt.plot(timel, data1[0,:])\n",
    "plt.show()\n",
    "max0 = np.max(data0)\n",
    "AUC0 = np.sum(data0)\n",
    "print(f'C_max为{max0}')\n",
    "print(f'C_max百分比变化为{(max0-max)/max*100}%')\n",
    "print(f'AUC为{AUC0}')\n",
    "print(f'AUC百分比变化为{(AUC0-AUC)/AUC*100}%')\n",
    "\n"
   ]
  },
  {
   "cell_type": "code",
   "execution_count": 101,
   "metadata": {},
   "outputs": [
    {
     "name": "stderr",
     "output_type": "stream",
     "text": [
      "100%|██████████| 1/1 [00:00<00:00, 14.08it/s]"
     ]
    },
    {
     "name": "stdout",
     "output_type": "stream",
     "text": [
      "C_max为0.003071972422725163\n",
      "C_max百分比变化为0.4078978568180708%\n",
      "AUC为10.035086810336507\n",
      "AUC百分比变化为-35.79005652666406%\n"
     ]
    },
    {
     "name": "stderr",
     "output_type": "stream",
     "text": [
      "\n"
     ]
    }
   ],
   "source": [
    "\n",
    "data0,_,_ =BPS_BPTK_MultiParas(t = timel,volunteer_ID =id, paras =a2,mode = '63')\n",
    "#plt.plot(timel, data1[0,:])\n",
    "plt.show()\n",
    "max0 = np.max(data0)\n",
    "AUC0 = np.sum(data0)\n",
    "print(f'C_max为{max0}')\n",
    "print(f'C_max百分比变化为{(max0-max)/max*100}%')\n",
    "print(f'AUC为{AUC0}')\n",
    "print(f'AUC百分比变化为{(AUC0-AUC)/AUC*100}%')"
   ]
  },
  {
   "cell_type": "code",
   "execution_count": 102,
   "metadata": {},
   "outputs": [
    {
     "name": "stderr",
     "output_type": "stream",
     "text": [
      "100%|██████████| 1/1 [00:00<00:00, 18.18it/s]"
     ]
    },
    {
     "name": "stdout",
     "output_type": "stream",
     "text": [
      "C_max为0.0033654223953186488\n",
      "C_max百分比变化为9.999355988500934%\n",
      "AUC为15.820155210858832\n",
      "AUC百分比变化为1.2259575853717448%\n"
     ]
    },
    {
     "name": "stderr",
     "output_type": "stream",
     "text": [
      "\n"
     ]
    }
   ],
   "source": [
    "\n",
    "data0,_,_ =BPS_BPTK_MultiParas(t = timel,volunteer_ID =id, paras =a3,mode = '63')\n",
    "#plt.plot(timel, data1[0,:])\n",
    "plt.show()\n",
    "max0 = np.max(data0)\n",
    "AUC0 = np.sum(data0)\n",
    "print(f'C_max为{max0}')\n",
    "print(f'C_max百分比变化为{(max0-max)/max*100}%')\n",
    "print(f'AUC为{AUC0}')\n",
    "print(f'AUC百分比变化为{(AUC0-AUC)/AUC*100}%')"
   ]
  },
  {
   "cell_type": "code",
   "execution_count": 103,
   "metadata": {},
   "outputs": [
    {
     "name": "stderr",
     "output_type": "stream",
     "text": [
      "100%|██████████| 1/1 [00:00<00:00, 14.71it/s]"
     ]
    },
    {
     "name": "stdout",
     "output_type": "stream",
     "text": [
      "C_max为0.002753560165199424\n",
      "C_max百分比变化为-9.99945645192977%\n",
      "AUC为15.436955952536817\n",
      "AUC百分比变化为-1.2259596905741517%\n"
     ]
    },
    {
     "name": "stderr",
     "output_type": "stream",
     "text": [
      "\n"
     ]
    }
   ],
   "source": [
    "\n",
    "data0,_,_ =BPS_BPTK_MultiParas(t = timel,volunteer_ID =id, paras =a4,mode = '63')\n",
    "#plt.plot(timel, data1[0,:])\n",
    "plt.show()\n",
    "max0 = np.max(data0)\n",
    "AUC0 = np.sum(data0)\n",
    "print(f'C_max为{max0}')\n",
    "print(f'C_max百分比变化为{(max0-max)/max*100}%')\n",
    "print(f'AUC为{AUC0}')\n",
    "print(f'AUC百分比变化为{(AUC0-AUC)/AUC*100}%')"
   ]
  },
  {
   "cell_type": "code",
   "execution_count": 104,
   "metadata": {},
   "outputs": [
    {
     "name": "stderr",
     "output_type": "stream",
     "text": [
      "100%|██████████| 1/1 [00:00<00:00, 16.67it/s]"
     ]
    },
    {
     "name": "stdout",
     "output_type": "stream",
     "text": [
      "C_max为0.00306746205816843\n",
      "C_max百分比变化为0.2604758876756166%\n",
      "AUC为11.410884522345649\n",
      "AUC百分比变化为-26.98695447199537%\n"
     ]
    },
    {
     "name": "stderr",
     "output_type": "stream",
     "text": [
      "\n"
     ]
    }
   ],
   "source": [
    "\n",
    "data0,_,_ =BPS_BPTK_MultiParas(t = timel,volunteer_ID =id, paras =a5,mode = '63')\n",
    "#plt.plot(timel, data1[0,:])\n",
    "plt.show()\n",
    "max0 = np.max(data0)\n",
    "AUC0 = np.sum(data0)\n",
    "print(f'C_max为{max0}')\n",
    "print(f'C_max百分比变化为{(max0-max)/max*100}%')\n",
    "print(f'AUC为{AUC0}')\n",
    "print(f'AUC百分比变化为{(AUC0-AUC)/AUC*100}%')"
   ]
  },
  {
   "cell_type": "code",
   "execution_count": 105,
   "metadata": {},
   "outputs": [
    {
     "name": "stderr",
     "output_type": "stream",
     "text": [
      "100%|██████████| 1/1 [00:00<00:00, 16.67it/s]"
     ]
    },
    {
     "name": "stdout",
     "output_type": "stream",
     "text": [
      "C_max为0.0031677189573101343\n",
      "C_max百分比变化为3.5373882759487594%\n",
      "AUC为21.451157802905744\n",
      "AUC百分比变化为37.2561748587404%\n"
     ]
    },
    {
     "name": "stderr",
     "output_type": "stream",
     "text": [
      "\n"
     ]
    }
   ],
   "source": [
    "\n",
    "data0,_,_ =BPS_BPTK_MultiParas(t = timel,volunteer_ID =id, paras =a6,mode = '63')\n",
    "#plt.plot(timel, data1[0,:])\n",
    "plt.show()\n",
    "max0 = np.max(data0)\n",
    "AUC0 = np.sum(data0)\n",
    "print(f'C_max为{max0}')\n",
    "print(f'C_max百分比变化为{(max0-max)/max*100}%')\n",
    "print(f'AUC为{AUC0}')\n",
    "print(f'AUC百分比变化为{(AUC0-AUC)/AUC*100}%')"
   ]
  }
 ],
 "metadata": {
  "kernelspec": {
   "display_name": "Python 3",
   "language": "python",
   "name": "python3"
  },
  "language_info": {
   "codemirror_mode": {
    "name": "ipython",
    "version": 3
   },
   "file_extension": ".py",
   "mimetype": "text/x-python",
   "name": "python",
   "nbconvert_exporter": "python",
   "pygments_lexer": "ipython3",
   "version": "3.10.8"
  }
 },
 "nbformat": 4,
 "nbformat_minor": 2
}

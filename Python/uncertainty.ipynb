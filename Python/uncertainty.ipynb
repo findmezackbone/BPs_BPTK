{
 "cells": [
  {
   "cell_type": "code",
   "execution_count": 1,
   "metadata": {},
   "outputs": [],
   "source": [
    "import numpy as np\n",
    "from tqdm import tqdm \n",
    "import torch\n",
    "import numpy as np\n",
    "import random\n",
    "import itertools\n",
    "import torch\n",
    "import torch.nn as nn\n",
    "import torch.optim as optim\n",
    "from torch.utils.data import DataLoader, TensorDataset\n",
    "from sklearn.model_selection import train_test_split\n",
    "import numpy as np\n",
    "from tqdm import tqdm\n",
    "from sklearn.preprocessing import StandardScaler\n",
    "import sys\n",
    "sys.path.append(\"D:\\\\xjr\\\\BPs_BPTK\\\\Python\") \n",
    "from BPS_init_function_MultiParas import BPS_BPTK_MultiParas\n",
    "import matplotlib.pyplot as plt\n",
    "plt.rcParams['font.sans-serif']=['SimHei'] # 用来正常显示中文标签\n",
    "plt.rcParams['axes.unicode_minus']=False # 用来正常显示负号\n",
    "from sklearn.metrics import r2_score\n",
    "import scipy.stats as stats\n",
    "import os\n",
    "os.chdir('d:\\\\xjr\\\\BPs_BPTK')\n",
    "import time\n",
    "\n",
    "id = 0\n",
    "timel = np.arange(0,75,0.005)\n",
    "a = np.array([[14.9377, 6.1184, 3.7767]])"
   ]
  },
  {
   "cell_type": "code",
   "execution_count": 2,
   "metadata": {},
   "outputs": [],
   "source": [
    "#宽距取样\n",
    "mean1 = 14.9377\n",
    "mean2 = 6.1184\n",
    "mean3 = 3.7767\n",
    "X1 = stats.truncnorm(-1.96, 1.96, loc=mean1, scale=mean1*0.3)\n",
    "x1 = X1.rvs(size = 10000 ,random_state = 42)\n",
    "X2 = stats.truncnorm(-1.96, 1.96, loc=mean2, scale=mean2*0.3)\n",
    "x2 = X2.rvs(size = 10000,random_state = 42)\n",
    "X3 = stats.truncnorm(-1.96, 1.96, loc=mean3, scale=mean3*0.3)\n",
    "x3 = X3.rvs(size = 10000,random_state = 42)\n"
   ]
  },
  {
   "cell_type": "code",
   "execution_count": 3,
   "metadata": {},
   "outputs": [],
   "source": [
    "para1 = np.hstack(( x1.reshape(-1,1)  ,  np.ones((10000,1))*a[0,1], np.ones((10000,1))*a[0,2]))\n",
    "\n",
    "para2 = np.hstack((  np.ones((10000,1))*a[0,0] , x2.reshape(-1,1) , np.ones((10000,1))*a[0,2]))\n",
    "\n",
    "para3 = np.hstack(( np.ones((10000,1))*a[0,0] ,  np.ones((10000,1))*a[0,1], x3.reshape(-1,1) ))"
   ]
  },
  {
   "cell_type": "code",
   "execution_count": 4,
   "metadata": {},
   "outputs": [
    {
     "name": "stderr",
     "output_type": "stream",
     "text": [
      "100%|██████████| 10000/10000 [10:28<00:00, 15.91it/s]\n"
     ]
    }
   ],
   "source": [
    "data1,_,_ =BPS_BPTK_MultiParas(t = timel,volunteer_ID =id, paras =para1,mode = '63')\n",
    "\n",
    "max1 = np.max(data1, axis=1)\n",
    "AUC1 = np.sum(data1, axis=1)"
   ]
  },
  {
   "cell_type": "code",
   "execution_count": 5,
   "metadata": {},
   "outputs": [
    {
     "name": "stderr",
     "output_type": "stream",
     "text": [
      "100%|██████████| 10000/10000 [10:52<00:00, 15.32it/s]\n"
     ]
    }
   ],
   "source": [
    "data2,_,_ =BPS_BPTK_MultiParas(t = timel,volunteer_ID =id, paras =para2,mode = '63')\n",
    "\n",
    "max2 = np.max(data2, axis=1)\n",
    "AUC2 = np.sum(data2, axis=1)"
   ]
  },
  {
   "cell_type": "code",
   "execution_count": 6,
   "metadata": {},
   "outputs": [
    {
     "name": "stderr",
     "output_type": "stream",
     "text": [
      "100%|██████████| 10000/10000 [10:51<00:00, 15.35it/s]\n"
     ]
    }
   ],
   "source": [
    "data3,_,_ =BPS_BPTK_MultiParas(t = timel,volunteer_ID =id, paras =para3,mode = '63')\n",
    "\n",
    "max3 = np.max(data3, axis=1)\n",
    "AUC3 = np.sum(data3, axis=1)"
   ]
  },
  {
   "cell_type": "code",
   "execution_count": 10,
   "metadata": {},
   "outputs": [],
   "source": [
    "max195 = np.percentile(max1,95)\n",
    "max295 = np.percentile(max2,95)\n",
    "max395 = np.percentile(max3,95)\n",
    "max150 = np.percentile(max1,50)\n",
    "max250 = np.percentile(max2,50)\n",
    "max350 = np.percentile(max3,50)"
   ]
  },
  {
   "cell_type": "code",
   "execution_count": 11,
   "metadata": {},
   "outputs": [],
   "source": [
    "AUC195 = np.percentile(AUC1,95)\n",
    "AUC295 = np.percentile(AUC2,95)\n",
    "AUC395 = np.percentile(AUC3,95)\n",
    "AUC150 = np.percentile(AUC1,50)\n",
    "AUC250 = np.percentile(AUC2,50)\n",
    "AUC350 = np.percentile(AUC3,50)"
   ]
  },
  {
   "cell_type": "code",
   "execution_count": 15,
   "metadata": {},
   "outputs": [
    {
     "name": "stdout",
     "output_type": "stream",
     "text": [
      "3.679419352863398\n",
      "1.4396380629363401\n",
      "2.7307672538619663\n",
      "3.8108841659545716\n",
      "1.0536487379289377\n",
      "3.7558502476028806\n"
     ]
    }
   ],
   "source": [
    "print(max195/max150)\n",
    "print(max295/max250)\n",
    "print(max395/max350)\n",
    "\n",
    "print(AUC195/AUC150)\n",
    "print(AUC295/AUC250)\n",
    "print(AUC395/AUC350)"
   ]
  }
 ],
 "metadata": {
  "kernelspec": {
   "display_name": "Python 3",
   "language": "python",
   "name": "python3"
  },
  "language_info": {
   "codemirror_mode": {
    "name": "ipython",
    "version": 3
   },
   "file_extension": ".py",
   "mimetype": "text/x-python",
   "name": "python",
   "nbconvert_exporter": "python",
   "pygments_lexer": "ipython3",
   "version": "3.10.8"
  }
 },
 "nbformat": 4,
 "nbformat_minor": 2
}

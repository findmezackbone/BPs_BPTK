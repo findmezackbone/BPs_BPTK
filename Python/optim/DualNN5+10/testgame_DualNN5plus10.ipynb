{
 "cells": [
  {
   "cell_type": "code",
   "execution_count": 1,
   "metadata": {},
   "outputs": [],
   "source": [
    "import numpy as np\n",
    "from tqdm import tqdm \n",
    "import torch\n",
    "import numpy as np\n",
    "import random\n",
    "import itertools\n",
    "import torch\n",
    "import torch.nn as nn\n",
    "import torch.optim as optim\n",
    "from torch.utils.data import DataLoader, TensorDataset\n",
    "from sklearn.model_selection import train_test_split\n",
    "import numpy as np\n",
    "from tqdm import tqdm\n",
    "from sklearn.preprocessing import StandardScaler\n",
    "import sys\n",
    "sys.path.append(\"D:\\\\1st\\\\BPs_BPTK\\\\Python\") \n",
    "from BPS_init_function_MultiParas import BPS_BPTK_MultiParas\n",
    "import matplotlib.pyplot as plt\n",
    "plt.rcParams['font.sans-serif']=['SimHei'] # 用来正常显示中文标签\n",
    "plt.rcParams['axes.unicode_minus']=False # 用来正常显示负号\n",
    "from sklearn.metrics import r2_score\n",
    "import scipy.stats as stats\n",
    "import os\n",
    "os.chdir('d:\\\\1st\\\\BPs_BPTK')"
   ]
  },
  {
   "cell_type": "code",
   "execution_count": 2,
   "metadata": {},
   "outputs": [],
   "source": [
    "# 定义神经网络模型\n",
    "class ResNetBlock(nn.Module):\n",
    "    def __init__(self, hyperparas):\n",
    "        super(ResNetBlock, self).__init__()\n",
    "        \n",
    "        self.hidden_dim = hyperparas['hidden_dim']\n",
    "        self.block_layer_nums =hyperparas['block_layer_nums']\n",
    "            \n",
    "        # Define layers for the function f (MLP)\n",
    "        self.layers = nn.ModuleList()\n",
    "        \n",
    "        for _ in range(self.block_layer_nums - 1):  # -2 because we already added one layer and last layer is already defined\n",
    "            self.layers.append(nn.Linear(self.hidden_dim,self.hidden_dim ))\n",
    "        \n",
    "        # Layer normalization\n",
    "        self.layernorms = nn.ModuleList()\n",
    "        for _ in range(self.block_layer_nums - 1):  # -1 because layer normalization is not applied to the last layer\n",
    "            self.layernorms.append(nn.LayerNorm(self.hidden_dim))\n",
    "        \n",
    "    def forward(self, x):\n",
    "        # Forward pass through the function f (MLP)\n",
    "        out = x\n",
    "        for i in range(self.block_layer_nums - 1):  # -1 because last layer is already applied outside the loop\n",
    "            out = self.layers[i](out)\n",
    "            out = self.layernorms[i](out)\n",
    "            out = torch.relu(out)\n",
    "        \n",
    "        # Element-wise addition of input x and output of function f(x)\n",
    "        out = x + out\n",
    "        \n",
    "        return out\n",
    "    \n",
    "\n",
    "class CustomResNN(nn.Module):\n",
    "    def __init__(self,hyperparas):\n",
    "        super().__init__()\n",
    "        self.input_dim = hyperparas['input_dim'] #68\n",
    "        self.hidden_dim = hyperparas['hidden_dim'] #30\n",
    "        self.hidden_nums = hyperparas['hidden_nums'] #3\n",
    "        self.output_dim = hyperparas['output_dim'] #3\n",
    "        self.block_layer_nums = hyperparas['block_layer_nums'] #3\n",
    "\n",
    "        self.layer_list = []\n",
    "        self.layer_list.append(nn.Sequential(nn.Linear(self.input_dim,self.hidden_dim),nn.ReLU() ) )\n",
    "\n",
    "        for _ in range(self.hidden_nums-1):\n",
    "            self.layer_list.append(ResNetBlock(hyperparas))\n",
    "\n",
    "        self.layer_list.append(nn.Linear(self.hidden_dim,self.output_dim))\n",
    "\n",
    "        self.linear_Res_final = nn.Sequential(*self.layer_list)\n",
    "\n",
    "    def forward(self,inputs):\n",
    "        \n",
    "        return self.linear_Res_final(inputs)\n",
    "\n",
    "#超参数合集\n",
    "hyperparas = {'input_dim':15,'hidden_dim':30,'hidden_nums':3,'output_dim':3,'block_layer_nums':3}\n",
    "learning_rate = 0.001\n",
    "num_epochs = 100\n",
    "\n",
    "bestmodel = CustomResNN(hyperparas)"
   ]
  },
  {
   "cell_type": "code",
   "execution_count": 3,
   "metadata": {},
   "outputs": [
    {
     "name": "stdout",
     "output_type": "stream",
     "text": [
      "(47743, 15)\n"
     ]
    }
   ],
   "source": [
    "best_model_path ='Python\\optim\\Temporary_Model\\model_pause1.pth'\n",
    "#best_model_path ='Python\\optim\\Temporary_Model\\model_pause2.pth'\n",
    "#best_model_path ='Python\\optim\\Temporary_Model\\model_pause3.pth'\n",
    "best_model_path ='Python\\optim\\Temporary_Model\\model_best.pth'\n",
    "\n",
    "#best_model_path ='Python\\optim\\Settled_Model\\Dual5plus10\\model1.pth'\n",
    "\n",
    "\n",
    "# 准备数据\n",
    "X1 = np.load(\"Python\\optim\\DataFromBPTK\\\\plasma5_add.npy\")  #输入数据\n",
    "X2 = np.load(\"Python\\optim\\DataFromBPTK\\\\urinebps5_1_add.npy\")  #输入数据\n",
    "X3 = np.load(\"Python\\optim\\DataFromBPTK\\\\urinebpsg5_1_add.npy\")  #输入数据\n",
    "X = np.hstack((X1,X2,X3))\n",
    "print(np.shape(X))\n",
    "\n",
    "Data_origin = X\n",
    "\n",
    "sampling_time_index = np.array([98,433,601,1644,3651])\n",
    "time_range = sampling_time_index/200 #采样时间节点，在0至75小时内共选取了5个时间节点 \n",
    "\n",
    "sampling_time_index = np.array([101,433,608,1653,3661])\n",
    "time_range1 = sampling_time_index/200 #采样时间节点，在0至75小时内共选取了5个时间节点 \n",
    "\n",
    "#paras = np.array([[17.28, 6.39, 5.7],[14.91,2.78,4.707],[21.333, 9.666, 7.42],[19.921, 11, 2.4212],[23.032,7.2223,4.99],[13.53,10.11,5.444],[18.888,9.999,8.888],[15.5,10.5,7.5],[12.45,6.84,6.75],[20.8,4.61,9.888]])\n",
    "time = np.arange(0,75,0.005)"
   ]
  },
  {
   "cell_type": "code",
   "execution_count": 10,
   "metadata": {},
   "outputs": [],
   "source": [
    "#宽距取样\n",
    "mean1 = 17.28\n",
    "mean2 = 6.39\n",
    "mean3 = 5.7\n",
    "X1 = stats.truncnorm(-2, 2.3, loc=mean1, scale=5)\n",
    "x1 = X1.rvs(size = 6,random_state = 43)\n",
    "X2 = stats.truncnorm(-1, 1.3, loc=mean2, scale=5)\n",
    "x2 = X2.rvs(size = 5,random_state = 43)\n",
    "X3 = stats.truncnorm(-1, 1.2, loc=mean3, scale=5)\n",
    "x3 = X3.rvs(size = 5,random_state = 43)\n",
    "paras = np.array(list(itertools.product(x1, x2, x3)))"
   ]
  },
  {
   "cell_type": "code",
   "execution_count": 8,
   "metadata": {},
   "outputs": [],
   "source": [
    "#窄距取样\n",
    "mean1 = 17.28\n",
    "mean2 = 6.39\n",
    "mean3 = 5.7\n",
    "X1 = stats.truncnorm(-2, 2, loc=mean1, scale=3)\n",
    "x1 = X1.rvs(size = 6,random_state = 43)\n",
    "X2 = stats.truncnorm(-1, 1.2, loc=mean2, scale=2)\n",
    "x2 = X2.rvs(size = 5,random_state = 43)\n",
    "X3 = stats.truncnorm(-1, 1.2, loc=mean3, scale=2)\n",
    "x3 = X3.rvs(size = 5,random_state = 43)\n",
    "paras = np.array(list(itertools.product(x1, x2, x3)))"
   ]
  },
  {
   "cell_type": "code",
   "execution_count": 6,
   "metadata": {},
   "outputs": [],
   "source": [
    "def test_NewData_NN(origin_para = paras , model = bestmodel, model_path = best_model_path, Data = Data_origin, sampling_time_range_plasma = time_range, sampling_time_range_urine = time_range1):\n",
    "\n",
    "    scaler = StandardScaler()\n",
    "    X = scaler.fit_transform(Data)\n",
    "    best_model = model\n",
    "    best_model.load_state_dict(torch.load(model_path))\n",
    "    id = 0\n",
    "    time = np.arange(0,75,0.005)\n",
    "    sampling_time_index_plasma = (200*sampling_time_range_plasma).astype(int) #采样时间节点在求解器结果中的索引值\n",
    "    sampling_time_index_urine = (200*sampling_time_range_urine).astype(int) #采样时间节点在求解器结果中的索引值\n",
    "\n",
    "   \n",
    "    norm1_error = np.zeros((np.shape(origin_para)[0],2))\n",
    "    r2 = np.zeros((np.shape(origin_para)[0],1)).flatten()\n",
    "\n",
    "    plasma_true,urine_true,urineg_true =BPS_BPTK_MultiParas(t = time,volunteer_ID =id, paras = origin_para ,mode = '63')\n",
    "\n",
    "    X_test = np.hstack((plasma_true[:,sampling_time_index_plasma],urine_true[:,sampling_time_index_urine],urineg_true[:,sampling_time_index_urine]))\n",
    "    y_test = origin_para\n",
    "\n",
    "    X_test = scaler.transform(X_test)\n",
    "\n",
    "    \n",
    "    X_test = torch.tensor(X_test).float()\n",
    "    y_test = torch.tensor(y_test).float()\n",
    "\n",
    "    test_outputs = best_model(X_test)\n",
    "    example_FromNN_3para = test_outputs\n",
    "    label_rel_err = test_outputs/y_test-1\n",
    "    label_rel_err_mean = torch.sum(label_rel_err,dim=0)/np.shape(origin_para)[0]\n",
    "\n",
    "    \n",
    "    example_FromNN_3para=example_FromNN_3para.detach().numpy()\n",
    "    \n",
    "    plasma_fromNN,urine_fromNN,urineg_fromNN = BPS_BPTK_MultiParas(t = time,volunteer_ID =id, paras = example_FromNN_3para , mode = '63')\n",
    "\n",
    "    \n",
    "    err28plus30 = np.zeros((1,2)).flatten()\n",
    "    slice_true = np.hstack((plasma_true[:,sampling_time_index_plasma],urine_true[:,sampling_time_index_urine],urineg_true[:,sampling_time_index_urine]))\n",
    "    slice_fromNN = np.hstack((plasma_fromNN[:,sampling_time_index_plasma],urine_fromNN[:,sampling_time_index_urine],urineg_fromNN[:,sampling_time_index_urine]))\n",
    "    for i in range(np.shape(origin_para)[0]):\n",
    "        \n",
    "        r2[i] = r2_score(plasma_true[i,:], plasma_fromNN[i,:]) #决定系数\n",
    "        norm_absolute = np.linalg.norm(plasma_fromNN[i,:]-plasma_true[i,:], ord=1)/15000\n",
    "        norm_relative = np.linalg.norm(plasma_fromNN[i,1:]/(plasma_true[i,1:]+1E-16)-1, ord=1)/14999\n",
    "        #print(norm_relative)\n",
    "        norm1_error[i,0] = norm_absolute\n",
    "        norm1_error[i,1] = norm_relative\n",
    "                \n",
    "        \n",
    "    err28plus30[0] = np.mean(abs(slice_fromNN-slice_true))\n",
    "    err28plus30[1] = np.mean(abs(slice_fromNN-slice_true)/(slice_true+1E-11))   \n",
    "    mean_r2 = np.mean(r2)#平均决定系数\n",
    "\n",
    "\n",
    "\n",
    "    return err28plus30,label_rel_err_mean, mean_r2"
   ]
  },
  {
   "cell_type": "code",
   "execution_count": 7,
   "metadata": {},
   "outputs": [
    {
     "name": "stderr",
     "output_type": "stream",
     "text": [
      "  0%|          | 0/150 [00:00<?, ?it/s]"
     ]
    },
    {
     "name": "stderr",
     "output_type": "stream",
     "text": [
      "100%|██████████| 150/150 [00:17<00:00,  8.48it/s]\n",
      "100%|██████████| 150/150 [00:21<00:00,  6.82it/s]\n"
     ]
    },
    {
     "name": "stdout",
     "output_type": "stream",
     "text": [
      "[ 0.00339488 -0.00210755  0.00387542]  0.0031259479001164436   标签MRE\n",
      "[0.00013728 0.00717461]    MAE&MRE切片\n",
      "0.9988622611142004    R^2\n"
     ]
    }
   ],
   "source": [
    "err28plus30,label_rel_err_mean,mean_r2 = test_NewData_NN(origin_para = paras , model = bestmodel, model_path = best_model_path, Data = Data_origin, sampling_time_range_plasma = time_range, sampling_time_range_urine = time_range1)\n",
    "\n",
    "label_rel_err_mean = label_rel_err_mean.detach().numpy()\n",
    "print(f'{label_rel_err_mean}  {np.mean(abs(label_rel_err_mean))}   标签MRE')\n",
    "print(f'{err28plus30}    MAE&MRE切片')\n",
    "print(f'{mean_r2}    R^2')"
   ]
  },
  {
   "cell_type": "code",
   "execution_count": 11,
   "metadata": {},
   "outputs": [
    {
     "name": "stderr",
     "output_type": "stream",
     "text": [
      "  0%|          | 0/150 [00:00<?, ?it/s]"
     ]
    },
    {
     "name": "stderr",
     "output_type": "stream",
     "text": [
      "100%|██████████| 150/150 [00:17<00:00,  8.80it/s]\n",
      "100%|██████████| 150/150 [00:21<00:00,  6.88it/s]\n"
     ]
    },
    {
     "name": "stdout",
     "output_type": "stream",
     "text": [
      "[0.02203444 0.00732104 0.04299994]  0.024118473753333092   标签MRE\n",
      "[0.00032513 0.02396196]    MAE&MRE切片\n",
      "0.9787524296167548    R^2\n"
     ]
    }
   ],
   "source": [
    "err28plus30,label_rel_err_mean,mean_r2 = test_NewData_NN(origin_para = paras , model = bestmodel, model_path = best_model_path, Data = Data_origin, sampling_time_range_plasma = time_range, sampling_time_range_urine = time_range1)\n",
    "\n",
    "label_rel_err_mean = label_rel_err_mean.detach().numpy()\n",
    "print(f'{label_rel_err_mean}  {np.mean(abs(label_rel_err_mean))}   标签MRE')\n",
    "print(f'{err28plus30}    MAE&MRE切片')\n",
    "print(f'{mean_r2}    R^2')"
   ]
  }
 ],
 "metadata": {
  "kernelspec": {
   "display_name": "Python 3",
   "language": "python",
   "name": "python3"
  },
  "language_info": {
   "codemirror_mode": {
    "name": "ipython",
    "version": 3
   },
   "file_extension": ".py",
   "mimetype": "text/x-python",
   "name": "python",
   "nbconvert_exporter": "python",
   "pygments_lexer": "ipython3",
   "version": "3.10.9"
  }
 },
 "nbformat": 4,
 "nbformat_minor": 2
}

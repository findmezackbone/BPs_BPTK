{
 "cells": [
  {
   "cell_type": "code",
   "execution_count": 1,
   "metadata": {},
   "outputs": [],
   "source": [
    "import numpy as np\n",
    "from tqdm import tqdm \n",
    "import torch\n",
    "import numpy as np\n",
    "import random\n",
    "import itertools\n",
    "import torch\n",
    "import torch.nn as nn\n",
    "import torch.optim as optim\n",
    "from torch.utils.data import DataLoader, TensorDataset\n",
    "from sklearn.model_selection import train_test_split\n",
    "import numpy as np\n",
    "from tqdm import tqdm\n",
    "from sklearn.preprocessing import StandardScaler\n",
    "import sys\n",
    "import os\n",
    "os.chdir('d:\\\\xjr\\\\BPs_BPTK')\n",
    "sys.path.append(\"Python\") \n",
    "from BPS_init_function_MultiParas import BPS_BPTK_MultiParas\n",
    "import matplotlib.pyplot as plt\n",
    "plt.rcParams['font.sans-serif']=['SimHei'] # 用来正常显示中文标签\n",
    "plt.rcParams['axes.unicode_minus']=False # 用来正常显示负号\n",
    "from sklearn.metrics import r2_score\n",
    "import scipy.stats as stats\n"
   ]
  },
  {
   "cell_type": "code",
   "execution_count": 2,
   "metadata": {},
   "outputs": [],
   "source": [
    "X =  np.load(\"Python\\optim\\Time_DualNN14\\database\\input_add.npy\")  \n",
    "\n",
    "y = np.load(\"Python\\optim\\Time_DualNN14\\database\\label_add.npy\")  \n",
    "\n",
    "\n",
    "def standard_transform(x):\n",
    "    # 计算每个特征的均值\n",
    "    mean = x.mean(dim=0)\n",
    "    # 计算每个特征的标准差\n",
    "    std = x.std(dim=0, unbiased=False)  # unbiased=False 相当于 numpy 的 ddof=0\n",
    "    # 避免使用0的标准差\n",
    "    std[std == 0] = 1\n",
    "    # 进行标准化转换\n",
    "    x = (x - mean) / std\n",
    "    return x,mean,std\n",
    "\n",
    "def standard_transform_paras(x,mean,std):\n",
    "    \n",
    "    x = (x - mean) / std\n",
    "    return x\n",
    "\n",
    "\n",
    "def inverse_transform(x, mean, std):\n",
    "    # 将标准化后的张量乘以标准差，然后加上均值\n",
    "    x = x * std + mean\n",
    "    return x\n",
    "\n",
    "\n",
    "\n",
    "\n",
    "X = torch.tensor(X).float()\n",
    "y = torch.tensor(y).float()\n",
    "\n",
    "\n",
    "X,X_mean,X_std = standard_transform(X)\n",
    "y,y_mean,y_std = standard_transform(y)\n",
    "\n",
    "\n",
    "X_train, X_temp, y_train, y_temp = train_test_split(X, y, test_size=0.16, random_state=20)\n",
    "X_val, X_test, y_val, y_test = train_test_split(X_temp, y_temp, test_size=0.5, random_state=20)\n",
    "\n",
    "X1 = np.load(\"Python\\ForwardFitNN\\WithTime\\Database\\ForwardInput_zzc.npy\")\n",
    "X2 = np.load(\"Python\\ForwardFitNN\\WithTime\\Database\\ForwardInput_SG.npy\")\n",
    "X_forward =  np.vstack((X1,X2))\n",
    "X_forward  = torch.tensor(X_forward ).float()\n",
    "\n",
    "_,X_forward_mean, X_forward_std = standard_transform(X_forward)\n",
    "y1 = np.load(\"Python\\ForwardFitNN\\WithTime\\Database\\ForwardLabel_zzc.npy\")  #输入标签数据\n",
    "y2 = np.load(\"Python\\ForwardFitNN\\WithTime\\Database\\ForwardLabel_SG.npy\")  #输入标签数据\n",
    "y_forward = np.vstack((y1,y2))\n",
    "y_forward  = torch.tensor(y_forward ).float()\n",
    "_,y_forward_mean, y_forward_std = standard_transform(y_forward)\n"
   ]
  },
  {
   "cell_type": "code",
   "execution_count": 3,
   "metadata": {},
   "outputs": [
    {
     "name": "stdout",
     "output_type": "stream",
     "text": [
      "tensor([ 1.5308,  1.2677,  1.6725,  0.7378,  1.5381,  0.1997,  1.1436,  1.6175,\n",
      "         1.6874,  1.1604,  1.4707,  1.5852,  1.6408,  1.6320,  1.6593,  1.2670,\n",
      "         1.2723,  0.4348,  1.0656, -1.5624,  0.3749,  0.7110,  0.8800, -1.6122,\n",
      "        -0.3397, -0.1500,  1.0460, -0.1691])\n",
      "tensor([ 0.4117,  0.3617, -1.5326])\n"
     ]
    }
   ],
   "source": [
    "print(X_test[1,:])\n",
    "print(y_test[1,:])"
   ]
  },
  {
   "cell_type": "code",
   "execution_count": 4,
   "metadata": {},
   "outputs": [],
   "source": [
    "# 定义神经网络模型\n",
    "class ResNetBlock(nn.Module):\n",
    "    def __init__(self, hyperparas):\n",
    "        super(ResNetBlock, self).__init__()\n",
    "        \n",
    "        self.hidden_dim = hyperparas['hidden_dim']\n",
    "        self.block_layer_nums =hyperparas['block_layer_nums']\n",
    "            \n",
    "        # Define layers for the function f (MLP)\n",
    "        self.layers = nn.ModuleList()\n",
    "        \n",
    "        for _ in range(self.block_layer_nums - 1):  # -2 because we already added one layer and last layer is already defined\n",
    "            self.layers.append(nn.Linear(self.hidden_dim,self.hidden_dim ))\n",
    "        \n",
    "        # Layer normalization\n",
    "        self.layernorms = nn.ModuleList()\n",
    "        for _ in range(self.block_layer_nums - 1):  # -1 because layer normalization is not applied to the last layer\n",
    "            self.layernorms.append(nn.LayerNorm(self.hidden_dim))\n",
    "        \n",
    "    def forward(self, x):\n",
    "        # Forward pass through the function f (MLP)\n",
    "        out = x\n",
    "        for i in range(self.block_layer_nums - 1):  # -1 because last layer is already applied outside the loop\n",
    "            out = self.layers[i](out)\n",
    "            out = self.layernorms[i](out)\n",
    "            out = torch.relu(out)\n",
    "        \n",
    "        # Element-wise addition of input x and output of function f(x)\n",
    "        out = x + out\n",
    "        \n",
    "        return out\n",
    "    \n",
    "\n",
    "class CustomResNN(nn.Module):\n",
    "    def __init__(self,hyperparas):\n",
    "        super().__init__()\n",
    "        self.input_dim = hyperparas['input_dim'] #68\n",
    "        self.hidden_dim = hyperparas['hidden_dim'] #30\n",
    "        self.hidden_nums = hyperparas['hidden_nums'] #3\n",
    "        self.output_dim = hyperparas['output_dim'] #3\n",
    "        self.block_layer_nums = hyperparas['block_layer_nums'] #3\n",
    "\n",
    "        self.layer_list = []\n",
    "        self.layer_list.append(nn.Sequential(nn.Linear(self.input_dim,self.hidden_dim),nn.ReLU() ) )\n",
    "\n",
    "        for _ in range(self.hidden_nums-1):\n",
    "            self.layer_list.append(ResNetBlock(hyperparas))\n",
    "\n",
    "        self.layer_list.append(nn.Linear(self.hidden_dim,self.output_dim))\n",
    "\n",
    "        self.linear_Res_final = nn.Sequential(*self.layer_list)\n",
    "\n",
    "    def forward(self,inputs):\n",
    "        \n",
    "        return self.linear_Res_final(inputs)\n",
    "\n",
    "#超参数合集\n",
    "hyperparas_reverse = {'input_dim':28,'hidden_dim':40,'hidden_nums':4,'output_dim':3,'block_layer_nums':3}\n",
    "hyperparas_forward_urine = {'input_dim':4,'hidden_dim':50,'hidden_nums':5,'output_dim':2,'block_layer_nums':3}\n",
    "learning_rate = 0.001\n",
    "num_epochs = 300\n",
    "\n",
    "model_forward_urine = CustomResNN(hyperparas_forward_urine)\n",
    "model_forward_urine.load_state_dict(torch.load('Python\\\\ForwardFitNN\\\\Settled_Model\\\\TimeFourTo2\\\\1\\\\model1.pth'))\n",
    "bestmodel = CustomResNN(hyperparas_reverse)"
   ]
  },
  {
   "cell_type": "code",
   "execution_count": 6,
   "metadata": {},
   "outputs": [],
   "source": [
    "#best_model_path ='Python\\optim\\Temporary_Model\\model_pause1.pth'\n",
    "#best_model_path ='Python\\ForwardFitNN\\Temporary_Model\\model_pause2.pth'\n",
    "#best_model_path ='Python\\ForwardFitNN\\Temporary_Model\\model_pause3.pth'\n",
    "best_model_path ='Python\\\\optim\\\\Settled_Model\\\\DualTime14\\\\model1.pth'\n",
    "\n",
    "\n",
    "bestmodel.load_state_dict(torch.load(best_model_path))\n",
    "# 准备数据\n",
    "\n",
    "id = 0\n",
    "time = np.arange(0,75,0.005)"
   ]
  },
  {
   "cell_type": "code",
   "execution_count": 7,
   "metadata": {},
   "outputs": [],
   "source": [
    "#宽距取样\n",
    "mean1 = 17.28\n",
    "mean2 = 6.39\n",
    "mean3 = 5.7\n",
    "X1 = stats.truncnorm(-2, 2.3, loc=mean1, scale=5)\n",
    "x1 = X1.rvs(size = 10 ,random_state = 43)\n",
    "X2 = stats.truncnorm(-1, 1.3, loc=mean2, scale=5)\n",
    "x2 = X2.rvs(size = 10,random_state = 43)\n",
    "X3 = stats.truncnorm(-1, 1.2, loc=mean3, scale=5)\n",
    "x3 = X3.rvs(size = 10,random_state = 43)\n",
    "a= np.array(list(itertools.product(x1, x2, x3)))"
   ]
  },
  {
   "cell_type": "code",
   "execution_count": 8,
   "metadata": {},
   "outputs": [],
   "source": [
    "#a = np.array([[16.2500,   8.8900,   5.5594]])"
   ]
  },
  {
   "cell_type": "code",
   "execution_count": 9,
   "metadata": {},
   "outputs": [
    {
     "name": "stderr",
     "output_type": "stream",
     "text": [
      "100%|██████████| 1000/1000 [01:02<00:00, 15.93it/s]\n"
     ]
    }
   ],
   "source": [
    "_,urine_true,urineg_true =BPS_BPTK_MultiParas(t = time,volunteer_ID =id, paras = a,mode = '63')"
   ]
  },
  {
   "cell_type": "code",
   "execution_count": 10,
   "metadata": {},
   "outputs": [
    {
     "name": "stderr",
     "output_type": "stream",
     "text": [
      "100%|██████████| 1000/1000 [00:00<00:00, 1429.41it/s]\n"
     ]
    }
   ],
   "source": [
    "from tqdm import tqdm \n",
    "\n",
    "draw_rules = [(0,1200,2), (1200, 2400, 2) , (2400, 3600, 3),     #14\n",
    "               (3600, 6000, 2),  (6000,  9200,2), (9200, 10800, 1),(10800, 12800, 1), (12800, 15000, 1)]\n",
    "\n",
    "#draw_rules = [(0, 600, 1), (600,1200,1), (1200, 1800, 1), (1800, 2400, 1) , (2400, 3000, 1), (3000, 3600, 1),     #14\n",
    "              #(2400, 3600, 1), (3600, 4800, 1), (4800, 6000, 1),  (6000, 7600, 1),(7600, 9200, 1), (9200, 10800, 1),(10800, 12800, 1), (12800, 15000, 1)]\n",
    "\n",
    "#draw_rules = [(0, 5000, 6), (600,1200,1), (1200, 1800, 1), (1800, 2400, 1) , (2400, 3000, 1), (3000, 3600, 1),     #14\n",
    "              #(2400, 3600, 1), (3600, 4800, 1), (4800, 6000, 1),  (6000, 7600, 1),(7600, 9200, 1), (9200, 10800, 1),(10800, 12800, 1), (12800, 15000, 1)]\n",
    "\n",
    "drawnumber = sum(elem[2] for elem in draw_rules) #一轮抽取中总共抽取的点\n",
    "draw_times = 1  #同一参数组抽取的轮数\n",
    "\n",
    "input_final = np.zeros((np.shape(a)[0]*draw_times ,2 * drawnumber))\n",
    "label_final = np.zeros((np.shape(a)[0]*draw_times , 3))\n",
    "\n",
    "\n",
    "for i in tqdm(range(np.shape(a)[0])):\n",
    "    selected_cols = np.empty(0)\n",
    "    for j in range(draw_times):\n",
    "        np.random.seed(i*draw_times+j)\n",
    "        selected_cols = np.empty(0).astype(int)\n",
    "        \n",
    "        for start, end, num_select in draw_rules:\n",
    "            selected_indices = np.random.choice(range(start, end), size=num_select, replace=False).flatten().astype(int)\n",
    "            selected_cols =  np.append(selected_cols , selected_indices)\n",
    "            \n",
    "        \n",
    "        input_final[draw_times * i + j , drawnumber:drawnumber*2] = selected_cols\n",
    "        input_final[draw_times * i + j , 0:drawnumber] = urine_true[i , selected_cols] + urineg_true[i , selected_cols]\n",
    "        #print(selected_cols)\n",
    "        #print(type(selected_cols))\n",
    "        \n",
    "    labeltimes = np.vstack([a[i,:]] * draw_times)\n",
    "    \n",
    "    label_final[draw_times*i:draw_times*i+draw_times, :] = labeltimes\n",
    "\n",
    "input_final = torch.tensor(input_final).float()\n",
    "input_final_transformed = standard_transform_paras( input_final,X_mean,X_std)\n",
    "\n",
    "    "
   ]
  },
  {
   "cell_type": "code",
   "execution_count": 11,
   "metadata": {},
   "outputs": [],
   "source": [
    "#ForwardInput = torch.tensor([[[ 0.4117,  0.3617, -1.5326,  0.8013]]]).float()"
   ]
  },
  {
   "cell_type": "code",
   "execution_count": 12,
   "metadata": {},
   "outputs": [
    {
     "name": "stdout",
     "output_type": "stream",
     "text": [
      "(1000, 3)\n",
      "三参数的MSE0.9026224455499826\n",
      "三参数的MRE0.017134862247462385\n"
     ]
    },
    {
     "name": "stderr",
     "output_type": "stream",
     "text": [
      "100%|██████████| 1000/1000 [01:17<00:00, 12.86it/s]\n",
      "100%|██████████| 1000/1000 [00:00<00:00, 100000.10it/s]\n"
     ]
    }
   ],
   "source": [
    "\n",
    "outputs = bestmodel(input_final_transformed )\n",
    "\n",
    "\n",
    "outputs = inverse_transform(outputs, y_mean, y_std)\n",
    "#print(outputs)\n",
    "\n",
    "outputs = outputs.detach().numpy()\n",
    "print(np.shape(outputs))\n",
    "\n",
    "MSE = np.mean((label_final-outputs)**2)\n",
    "print(f'三参数的MSE{MSE}')\n",
    "MRE = np.mean((outputs/label_final)-1)\n",
    "print(f'三参数的MRE{MRE}')\n",
    "_,urine_NN,urineg_NN =BPS_BPTK_MultiParas(t = time,volunteer_ID =id, paras = outputs ,mode = '63')\n",
    "\n",
    "urine_NN_slice = np.zeros((np.shape(a)[0]*draw_times ,drawnumber))\n",
    "\n",
    "urineg_NN_slice = np.zeros((np.shape(a)[0]*draw_times ,drawnumber))\n",
    "urine_true_slice = np.zeros((np.shape(a)[0]*draw_times ,drawnumber))\n",
    "\n",
    "urineg_true_slice = np.zeros((np.shape(a)[0]*draw_times ,drawnumber))\n",
    "r2 =  np.zeros((np.shape(a)[0]*draw_times ,1))\n",
    "if not isinstance(input_final, np.ndarray):\n",
    "    input_final=input_final.detach().numpy()\n",
    "for i in tqdm(range(np.shape(a)[0])):\n",
    "    urine_NN_slice[i,:] = urine_NN[i,input_final[i,drawnumber:drawnumber*2].astype(int)]\n",
    "    urineg_NN_slice[i,:] = urineg_NN[i,input_final[i,drawnumber:drawnumber*2].astype(int)]\n",
    "    urine_true_slice[i,:] = urine_true[i,input_final[i,drawnumber:drawnumber*2].astype(int)]\n",
    "    urineg_true_slice[i,:] = urineg_true[i,input_final[i,drawnumber:drawnumber*2].astype(int)]\n",
    "  \n"
   ]
  },
  {
   "cell_type": "code",
   "execution_count": 22,
   "metadata": {},
   "outputs": [
    {
     "name": "stdout",
     "output_type": "stream",
     "text": [
      "含量信息的MSE0.000184605782061298\n",
      "含量信息的MRE0.02111159079423552\n",
      "含量信息的R20.9699386547227563\n"
     ]
    }
   ],
   "source": [
    "urinetotal_NN_slice = urine_NN_slice+urineg_NN_slice\n",
    "urinetotal_true_slice = urine_true_slice+urineg_true_slice\n",
    "MSE_concentration = np.mean((urinetotal_NN_slice-urinetotal_true_slice)**2)\n",
    "print(f'含量信息的MSE{MSE_concentration}')\n",
    "MRE_concentration = np.mean(abs(urinetotal_NN_slice-urinetotal_true_slice)/(urinetotal_true_slice+1E-15))\n",
    "print(f'含量信息的MRE{MRE_concentration }')\n",
    "for i in range(np.shape(a)[0]):\n",
    "  r2[i] = r2_score( urinetotal_true_slice[i,:],urinetotal_NN_slice[i,:]) #决定系数\n",
    "\n",
    "r2_mean = np.mean(r2)\n",
    "print(f'含量信息的R2{r2_mean  }')"
   ]
  },
  {
   "cell_type": "code",
   "execution_count": 16,
   "metadata": {},
   "outputs": [
    {
     "name": "stdout",
     "output_type": "stream",
     "text": [
      "(14,)\n"
     ]
    },
    {
     "data": {
      "image/png": "[encoded data removed]",
      "text/plain": [
       "<Figure size 640x480 with 1 Axes>"
      ]
     },
     "metadata": {},
     "output_type": "display_data"
    }
   ],
   "source": [
    "num =0\n",
    "print(np.shape(selected_cols))\n",
    "plt.plot(time,urine_true[num,], label='真实尿液bps')\n",
    "plt.scatter(input_final[num,drawnumber:drawnumber*2].astype(int)/200, urine_NN_slice[num,:], label='模型输出bps')\n",
    "plt.plot(time,urineg_true[num,], label='真实尿液bpsg')\n",
    "plt.scatter(input_final[num,drawnumber:drawnumber*2].astype(int)/200, urineg_NN_slice[num,:], label='模型输出bpsg')\n",
    "\n",
    "plt.legend()\n",
    "plt.show()"
   ]
  },
  {
   "cell_type": "code",
   "execution_count": null,
   "metadata": {},
   "outputs": [],
   "source": [
    "num =1222\n",
    "\n",
    "plt.plot(time,urine_true[num,], label='真实尿液bps')\n",
    "plt.scatter(input_final[num,drawnumber:drawnumber*2].astype(int)/200, urine_NN_slice[num,:], label='模型输出bps')\n",
    "plt.plot(time,urineg_true[num,], label='真实尿液bpsg')\n",
    "plt.scatter(input_final[num,drawnumber:drawnumber*2].astype(int)/200, urineg_NN_slice[num,:], label='模型输出bpsg')\n",
    "\n",
    "plt.legend()\n",
    "plt.show()"
   ]
  }
 ],
 "metadata": {
  "kernelspec": {
   "display_name": "Python 3",
   "language": "python",
   "name": "python3"
  },
  "language_info": {
   "codemirror_mode": {
    "name": "ipython",
    "version": 3
   },
   "file_extension": ".py",
   "mimetype": "text/x-python",
   "name": "python",
   "nbconvert_exporter": "python",
   "pygments_lexer": "ipython3",
   "version": "3.10.8"
  }
 },
 "nbformat": 4,
 "nbformat_minor": 2
}

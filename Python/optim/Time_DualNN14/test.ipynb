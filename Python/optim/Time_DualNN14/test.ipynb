{
 "cells": [
  {
   "cell_type": "code",
   "execution_count": 1,
   "metadata": {},
   "outputs": [],
   "source": [
    "import numpy as np\n",
    "from tqdm import tqdm \n",
    "import torch\n",
    "import numpy as np\n",
    "import random\n",
    "import itertools\n",
    "import torch\n",
    "import torch.nn as nn\n",
    "import torch.optim as optim\n",
    "from torch.utils.data import DataLoader, TensorDataset\n",
    "from sklearn.model_selection import train_test_split\n",
    "import numpy as np\n",
    "from tqdm import tqdm\n",
    "from sklearn.preprocessing import StandardScaler\n",
    "import sys\n",
    "import os\n",
    "os.chdir('d:\\\\1st\\\\BPs_BPTK')\n",
    "sys.path.append(\"Python\") \n",
    "from BPS_init_function_MultiParas import BPS_BPTK_MultiParas\n",
    "import matplotlib.pyplot as plt\n",
    "plt.rcParams['font.sans-serif']=['SimHei'] # 用来正常显示中文标签\n",
    "plt.rcParams['axes.unicode_minus']=False # 用来正常显示负号\n",
    "from sklearn.metrics import r2_score\n",
    "import scipy.stats as stats\n",
    "import os\n",
    "os.chdir('d:\\\\1st\\\\BPs_BPTK')"
   ]
  },
  {
   "cell_type": "code",
   "execution_count": 2,
   "metadata": {},
   "outputs": [],
   "source": [
    "\n",
    "def standard_transform(x):\n",
    "    # 计算每个特征的均值\n",
    "    mean = x.mean(dim=0)\n",
    "    # 计算每个特征的标准差\n",
    "    std = x.std(dim=0, unbiased=False)  # unbiased=False 相当于 numpy 的 ddof=0\n",
    "    # 避免使用0的标准差\n",
    "    std[std == 0] = 1\n",
    "    # 进行标准化转换\n",
    "    x = (x - mean) / std\n",
    "    return x,mean,std\n",
    "\n",
    "def standard_transform_paras(x,mean,std):\n",
    "    \n",
    "    x = (x - mean) / std\n",
    "    return x\n",
    "\n",
    "\n",
    "def inverse_transform(x, mean, std):\n",
    "    # 将标准化后的张量乘以标准差，然后加上均值\n",
    "    x = x * std + mean\n",
    "    return x"
   ]
  },
  {
   "cell_type": "code",
   "execution_count": 3,
   "metadata": {},
   "outputs": [],
   "source": [
    "X =  np.load(\"Python\\optim\\Time_DualNN14\\database\\input_add.npy\")  \n",
    "y = np.load(\"Python\\optim\\Time_DualNN14\\database\\label_add.npy\") \n",
    "\n",
    "X = torch.tensor(X).float()\n",
    "y = torch.tensor(y).float()\n",
    "\n",
    "X,X_mean,X_std = standard_transform(X)\n",
    "\n",
    "X1 = np.load(\"Python\\ForwardFitNN\\WithTime\\Database\\ForwardInput_zzc.npy\")\n",
    "X2 = np.load(\"Python\\ForwardFitNN\\WithTime\\Database\\ForwardInput_SG.npy\")\n",
    "\n",
    "X_forward =  np.vstack((X1,X2))\n",
    "X_forward  = torch.tensor(X_forward ).float()\n",
    "_,X_forward_mean, X_forward_std = standard_transform(X_forward)\n",
    "\n",
    "y1 = np.load(\"Python\\ForwardFitNN\\WithTime\\Database\\ForwardLabel_zzc.npy\")  #输入标签数据\n",
    "y2 = np.load(\"Python\\ForwardFitNN\\WithTime\\Database\\ForwardLabel_SG.npy\")  #输入标签数据\n",
    "\n",
    "y_forward = np.vstack((y1,y2))\n",
    "y_forward  = torch.tensor(y_forward ).float()\n",
    "_,y_forward_mean, y_forward_std = standard_transform(y_forward)"
   ]
  },
  {
   "cell_type": "code",
   "execution_count": 4,
   "metadata": {},
   "outputs": [
    {
     "data": {
      "text/plain": [
       "<All keys matched successfully>"
      ]
     },
     "execution_count": 4,
     "metadata": {},
     "output_type": "execute_result"
    }
   ],
   "source": [
    "\n",
    "class ResNetBlock(nn.Module):\n",
    "    def __init__(self, hyperparas):\n",
    "        super(ResNetBlock, self).__init__()\n",
    "        \n",
    "        self.hidden_dim = hyperparas['hidden_dim']\n",
    "        self.block_layer_nums =hyperparas['block_layer_nums']\n",
    "            \n",
    "        # Define layers for the function f (MLP)\n",
    "        self.layers = nn.ModuleList()\n",
    "        \n",
    "        for _ in range(self.block_layer_nums - 1):  # -2 because we already added one layer and last layer is already defined\n",
    "            self.layers.append(nn.Linear(self.hidden_dim,self.hidden_dim ))\n",
    "        \n",
    "        # Layer normalization\n",
    "        self.layernorms = nn.ModuleList()\n",
    "        for _ in range(self.block_layer_nums - 1):  # -1 because layer normalization is not applied to the last layer\n",
    "            self.layernorms.append(nn.LayerNorm(self.hidden_dim))\n",
    "        \n",
    "    def forward(self, x):\n",
    "        # Forward pass through the function f (MLP)\n",
    "        out = x\n",
    "        for i in range(self.block_layer_nums - 1):  # -1 because last layer is already applied outside the loop\n",
    "            out = self.layers[i](out)\n",
    "            out = self.layernorms[i](out)\n",
    "            out = torch.relu(out)\n",
    "        \n",
    "        # Element-wise addition of input x and output of function f(x)\n",
    "        out = x + out\n",
    "        \n",
    "        return out\n",
    "    \n",
    "class ResNN_Forward(nn.Module):\n",
    "    def __init__(self,hyperparas):\n",
    "        super().__init__()\n",
    "        self.input_dim = hyperparas['input_dim'] #28\n",
    "        self.hidden_dim = hyperparas['hidden_dim'] #30\n",
    "        self.hidden_nums = hyperparas['hidden_nums'] #3\n",
    "        self.output_dim = hyperparas['output_dim'] #3\n",
    "        self.block_layer_nums = hyperparas['block_layer_nums'] #3\n",
    "\n",
    "        self.layer_list = []\n",
    "        self.layer_list.append(nn.Sequential(nn.Linear(self.input_dim,self.hidden_dim),nn.ReLU() ) )\n",
    "\n",
    "        for _ in range(self.hidden_nums-1):\n",
    "            self.layer_list.append(ResNetBlock(hyperparas))\n",
    "\n",
    "        self.layer_list.append(nn.Linear(self.hidden_dim,self.output_dim))\n",
    "\n",
    "        self.linear_Res_final = nn.Sequential(*self.layer_list)\n",
    "\n",
    "    def forward(self,inputs):\n",
    "        \n",
    "        return self.linear_Res_final(inputs)\n",
    "    \n",
    "class ResNN_Reverse(nn.Module):\n",
    "    def __init__(self,hyperparas):\n",
    "        super().__init__()\n",
    "        self.input_dim = hyperparas['input_dim'] #15\n",
    "        self.hidden_dim = hyperparas['hidden_dim'] #30\n",
    "        self.hidden_nums = hyperparas['hidden_nums'] #3\n",
    "        self.output_dim = hyperparas['output_dim'] #3\n",
    "        self.block_layer_nums = hyperparas['block_layer_nums'] #3\n",
    "\n",
    "        self.layer_list = []\n",
    "        self.layer_list.append(nn.Sequential(nn.Linear(self.input_dim,self.hidden_dim),nn.ReLU() ) )\n",
    "\n",
    "        for _ in range(self.hidden_nums-1):\n",
    "            self.layer_list.append(ResNetBlock(hyperparas))\n",
    "\n",
    "        self.layer_list.append(nn.Linear(self.hidden_dim,self.output_dim))\n",
    "\n",
    "        self.linear_Res_final = nn.Sequential(*self.layer_list)\n",
    "\n",
    "    def forward(self,inputs):\n",
    "        \n",
    "        return self.linear_Res_final(inputs)\n",
    "\n",
    "#超参数合集\n",
    "hyperparas_reverse = {'input_dim':28,'hidden_dim':50,'hidden_nums':4,'output_dim':3,'block_layer_nums':3}\n",
    "\n",
    "hyperparas_forward_urine = {'input_dim':4,'hidden_dim':50,'hidden_nums':5,'output_dim':2,'block_layer_nums':3}\n",
    "learning_rate = 0.001\n",
    "num_epochs = 300\n",
    "\n",
    "\n",
    "# 初始化模型、损失函数和优化器\n",
    "model = ResNN_Reverse(hyperparas_reverse)\n",
    "\n",
    "model_forward_urine = ResNN_Forward(hyperparas_forward_urine)\n",
    "model_forward_urine.load_state_dict(torch.load('Python\\\\ForwardFitNN\\\\Settled_Model\\\\TimeFourTo2\\\\1\\\\model1.pth'))"
   ]
  },
  {
   "cell_type": "code",
   "execution_count": 14,
   "metadata": {},
   "outputs": [
    {
     "name": "stdout",
     "output_type": "stream",
     "text": [
      "tensor([6.0580e-02, 4.7877e-02, 8.4216e-02, 7.7948e-02, 8.9003e-02, 9.4404e-02,\n",
      "        9.5203e-02, 1.1083e-01, 1.3109e-01, 2.4154e-01, 1.8234e-01, 2.5448e-01,\n",
      "        2.8037e-01, 3.1376e-01, 8.3000e+02, 6.3500e+02, 1.8010e+03, 1.3250e+03,\n",
      "        2.5790e+03, 3.1940e+03, 3.2610e+03, 4.1740e+03, 4.9840e+03, 8.9140e+03,\n",
      "        6.7000e+03, 9.5140e+03, 1.0973e+04, 1.3948e+04])\n"
     ]
    }
   ],
   "source": [
    "test_id = 110000\n",
    "\n",
    "X[test_id ,:]\n",
    "hh = inverse_transform(X[test_id,:],X_mean,X_std)\n",
    "print(hh)"
   ]
  },
  {
   "cell_type": "code",
   "execution_count": 15,
   "metadata": {},
   "outputs": [
    {
     "name": "stdout",
     "output_type": "stream",
     "text": [
      "tensor([0.0619, 0.0486, 0.0835, 0.0788, 0.0875, 0.0949, 0.0958, 0.1087, 0.1327,\n",
      "        0.2396, 0.1816, 0.2603, 0.2851, 0.3111], grad_fn=<SumBackward1>)\n"
     ]
    }
   ],
   "source": [
    "\n",
    "    \n",
    "\n",
    "labeltimes =y[test_id ,:].repeat(14,1)\n",
    "\n",
    "output_transformed = torch.cat((labeltimes,hh[14:28].view(-1,1)), dim=1)\n",
    "output_transformed = standard_transform_paras(output_transformed,X_forward_mean,X_forward_std)#把数据变得与正向模型的输入 匹配\n",
    "\n",
    "output_forward_urine = model_forward_urine(output_transformed) #模型输出的三参数代入至PBPK的拟合网络中得到一个代表15个尿液bps含量采样点的数组\n",
    "\n",
    "output_forward_urine = inverse_transform(output_forward_urine,y_forward_mean,y_forward_std) #把正向模型输出变正常\n",
    "output_forward_urine_add = torch.sum(output_forward_urine, dim=1)\n",
    "print(output_forward_urine_add)"
   ]
  },
  {
   "cell_type": "code",
   "execution_count": 16,
   "metadata": {},
   "outputs": [
    {
     "data": {
      "text/plain": [
       "tensor([10.0023,  6.8446,  2.7928])"
      ]
     },
     "execution_count": 16,
     "metadata": {},
     "output_type": "execute_result"
    }
   ],
   "source": [
    "y[test_id ,:]"
   ]
  },
  {
   "cell_type": "code",
   "execution_count": 17,
   "metadata": {},
   "outputs": [
    {
     "name": "stderr",
     "output_type": "stream",
     "text": [
      "100%|██████████| 1/1 [00:00<00:00,  7.18it/s]\n"
     ]
    },
    {
     "data": {
      "image/png": "[encoded data removed]",
      "text/plain": [
       "<Figure size 640x480 with 1 Axes>"
      ]
     },
     "metadata": {},
     "output_type": "display_data"
    },
    {
     "data": {
      "image/png": "[encoded data removed]",
      "text/plain": [
       "<Figure size 640x480 with 1 Axes>"
      ]
     },
     "metadata": {},
     "output_type": "display_data"
    }
   ],
   "source": [
    "time = np.arange(0,75,0.005)\n",
    "\n",
    "id = 0\n",
    "para = y[test_id ,:].detach().numpy()\n",
    "_,urine,urineg=BPS_BPTK_MultiParas(t = time, volunteer_ID=id,paras=np.reshape(para,(1,3)),mode='63' )\n",
    "true = urine+urineg\n",
    "\n",
    "plt.plot(time, true[0,:])\n",
    "plt.scatter(hh[14:28].detach().numpy()/200,hh[0:14].detach().numpy())\n",
    "plt.scatter(hh[14:28].detach().numpy()/200,output_forward_urine_add.detach().numpy())\n",
    "\n",
    "plt.show()\n",
    "\n",
    "plt.scatter(hh[14:28].detach().numpy()/200,torch.abs(output_forward_urine_add-hh[0:14]).detach().numpy())\n",
    "\n",
    "plt.show()\n"
   ]
  },
  {
   "cell_type": "code",
   "execution_count": null,
   "metadata": {},
   "outputs": [],
   "source": []
  }
 ],
 "metadata": {
  "kernelspec": {
   "display_name": "Python 3",
   "language": "python",
   "name": "python3"
  },
  "language_info": {
   "codemirror_mode": {
    "name": "ipython",
    "version": 3
   },
   "file_extension": ".py",
   "mimetype": "text/x-python",
   "name": "python",
   "nbconvert_exporter": "python",
   "pygments_lexer": "ipython3",
   "version": "3.10.9"
  }
 },
 "nbformat": 4,
 "nbformat_minor": 2
}

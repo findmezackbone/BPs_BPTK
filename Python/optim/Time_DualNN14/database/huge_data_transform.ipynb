{
 "cells": [
  {
   "cell_type": "code",
   "execution_count": 1,
   "metadata": {},
   "outputs": [],
   "source": [
    "import numpy as np\n",
    "import os\n",
    "os.chdir('d:\\\\1st\\\\BPs_BPTK')\n",
    "import sys\n",
    "sys.path.append(\"Python\") \n",
    "label = np.load(\"Python\\optim\\DataFromBPTK\\labels_SG.npy\")\n",
    "data1 =  np.load(\"Python\\optim\\DataFromBPTK\\\\huge\\\\urinebps_SG.npy\")\n",
    "data2 =  np.load(\"Python\\optim\\DataFromBPTK\\\\huge\\\\urinebpsg_SG.npy\")"
   ]
  },
  {
   "cell_type": "code",
   "execution_count": 2,
   "metadata": {},
   "outputs": [
    {
     "name": "stderr",
     "output_type": "stream",
     "text": [
      "100%|██████████| 18943/18943 [07:35<00:00, 41.62it/s]\n"
     ]
    }
   ],
   "source": [
    "from tqdm import tqdm \n",
    "\n",
    "draw_rules = [(0,1200,2), (1200, 2400, 2) , (2400, 3600, 2),     #14\n",
    "              (3600, 6000, 3),  (6000,  9200,2), (9200, 10800, 1),(10800, 12800, 1), (12800, 15000, 1)]\n",
    "\n",
    "#draw_rules = [(0, 600, 1), (600,1200,1), (1200, 1800, 1), (1800, 2400, 1) , (2400, 3000, 1), (3000, 3600, 1),     #14\n",
    "              #(2400, 3600, 1), (3600, 4800, 1), (4800, 6000, 1),  (6000, 7600, 1),(7600, 9200, 1), (9200, 10800, 1),(10800, 12800, 1), (12800, 15000, 1)]\n",
    "\n",
    "#draw_rules = [(0, 5000, 6), (600,1200,1), (1200, 1800, 1), (1800, 2400, 1) , (2400, 3000, 1), (3000, 3600, 1),     #14\n",
    "              #(2400, 3600, 1), (3600, 4800, 1), (4800, 6000, 1),  (6000, 7600, 1),(7600, 9200, 1), (9200, 10800, 1),(10800, 12800, 1), (12800, 15000, 1)]\n",
    "\n",
    "drawnumber = sum(elem[2] for elem in draw_rules) #一轮抽取中总共抽取的点\n",
    "draw_times = 20  #同一参数组抽取的轮数\n",
    "\n",
    "input_final = np.zeros((np.shape(label)[0]*draw_times , 2 , drawnumber))\n",
    "label_final = np.zeros((np.shape(label)[0]*draw_times , 3))\n",
    "\n",
    "for i in tqdm(range(np.shape(label)[0])):\n",
    "    selected_cols = np.empty(0)\n",
    "    for j in range(draw_times):\n",
    "        np.random.seed(i*draw_times+j)\n",
    "        selected_cols = np.empty(0).astype(int)\n",
    "        \n",
    "        for start, end, num_select in draw_rules:\n",
    "            selected_indices = np.random.choice(range(start, end), size=num_select, replace=False).flatten().astype(int)\n",
    "            selected_cols =  np.append(selected_cols , selected_indices)\n",
    "\n",
    "        input_final[draw_times * i + j , 0, :] = selected_cols\n",
    "        input_final[draw_times * i + j , 1, :] = data1[i , selected_cols] + data2[i , selected_cols]\n",
    "        #print(selected_cols)\n",
    "        #print(type(selected_cols))\n",
    "        \n",
    "    labeltimes = np.vstack([label[i,:]] * draw_times)\n",
    "    \n",
    "    label_final[draw_times*i:draw_times*i+draw_times, :] = labeltimes\n",
    "    \n",
    "   \n",
    "\n",
    "np.save(\"Python\\\\optim\\\\Time_DualNN14\\\\database\\\\label_SG\",label_final)\n",
    "np.save(\"Python\\\\optim\\\\Time_DualNN14\\\\database\\\\input_SG\",input_final)"
   ]
  }
 ],
 "metadata": {
  "kernelspec": {
   "display_name": "Python 3",
   "language": "python",
   "name": "python3"
  },
  "language_info": {
   "codemirror_mode": {
    "name": "ipython",
    "version": 3
   },
   "file_extension": ".py",
   "mimetype": "text/x-python",
   "name": "python",
   "nbconvert_exporter": "python",
   "pygments_lexer": "ipython3",
   "version": "3.10.9"
  }
 },
 "nbformat": 4,
 "nbformat_minor": 2
}

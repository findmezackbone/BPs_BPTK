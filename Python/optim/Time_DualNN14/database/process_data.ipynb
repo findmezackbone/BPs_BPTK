{
 "cells": [
  {
   "cell_type": "code",
   "execution_count": null,
   "metadata": {},
   "outputs": [],
   "source": [
    "import numpy as np\n",
    "import os\n",
    "os.chdir('d:\\\\1st\\\\BPs_BPTK')\n",
    "import sys\n",
    "sys.path.append(\"Python\") \n",
    "\n",
    "input_SG =  np.load(\"Python\\\\optim\\\\Time_DualNN14\\\\database\\\\input_SG\")\n",
    "label_SG =  np.load(\"Python\\\\optim\\\\Time_DualNN14\\\\database\\\\label_SG\")\n",
    "input_zzc =  np.load(\"Python\\\\optim\\\\Time_DualNN14\\\\database\\\\input_zzc\")\n",
    "label_zzc =  np.load(\"Python\\\\optim\\\\Time_DualNN14\\\\database\\\\label_zzc\")"
   ]
  },
  {
   "cell_type": "code",
   "execution_count": null,
   "metadata": {},
   "outputs": [],
   "source": [
    "label_add = np.vstack((label_zzc))"
   ]
  }
 ],
 "metadata": {
  "language_info": {
   "name": "python"
  }
 },
 "nbformat": 4,
 "nbformat_minor": 2
}

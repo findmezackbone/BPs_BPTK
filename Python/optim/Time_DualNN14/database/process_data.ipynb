{
 "cells": [
  {
   "cell_type": "code",
   "execution_count": 1,
   "metadata": {},
   "outputs": [],
   "source": [
    "import numpy as np\n",
    "import os\n",
    "os.chdir('d:\\\\1st\\\\BPs_BPTK')\n",
    "import sys\n",
    "sys.path.append(\"Python\") \n",
    "\n",
    "input_SG =  np.load(\"Python\\\\optim\\\\Time_DualNN14\\\\database\\\\input_SG.npy\")\n",
    "label_SG =  np.load(\"Python\\\\optim\\\\Time_DualNN14\\\\database\\\\label_SG.npy\")\n",
    "input_zzc =  np.load(\"Python\\\\optim\\\\Time_DualNN14\\\\database\\\\input_zzc.npy\")\n",
    "label_zzc =  np.load(\"Python\\\\optim\\\\Time_DualNN14\\\\database\\\\label_zzc.npy\")"
   ]
  },
  {
   "cell_type": "code",
   "execution_count": 2,
   "metadata": {},
   "outputs": [],
   "source": [
    "label_add = np.vstack((label_zzc,label_SG))"
   ]
  },
  {
   "cell_type": "code",
   "execution_count": 3,
   "metadata": {},
   "outputs": [],
   "source": [
    "input_SG = np.hstack((input_SG[:,1,:],input_SG[:,0,:]))\n",
    "input_zzc = np.hstack((input_zzc[:,1,:],input_zzc[:,0,:]))\n",
    "\n",
    "input_add = np.vstack((input_zzc,input_SG))"
   ]
  },
  {
   "cell_type": "code",
   "execution_count": 4,
   "metadata": {},
   "outputs": [],
   "source": [
    "np.save(\"Python\\\\optim\\\\Time_DualNN14\\\\database\\\\label_add2\",label_add)\n",
    "np.save(\"Python\\\\optim\\\\Time_DualNN14\\\\database\\\\input_add2\",input_add)"
   ]
  }
 ],
 "metadata": {
  "kernelspec": {
   "display_name": "Python 3",
   "language": "python",
   "name": "python3"
  },
  "language_info": {
   "codemirror_mode": {
    "name": "ipython",
    "version": 3
   },
   "file_extension": ".py",
   "mimetype": "text/x-python",
   "name": "python",
   "nbconvert_exporter": "python",
   "pygments_lexer": "ipython3",
   "version": "3.10.9"
  }
 },
 "nbformat": 4,
 "nbformat_minor": 2
}

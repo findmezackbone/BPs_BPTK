{
 "cells": [
  {
   "cell_type": "code",
   "execution_count": 1,
   "metadata": {},
   "outputs": [],
   "source": [
    "import numpy as np\n",
    "from tqdm import tqdm \n",
    "import torch\n",
    "import numpy as np\n",
    "import random\n",
    "import itertools\n",
    "import torch\n",
    "import torch.nn as nn\n",
    "import torch.optim as optim\n",
    "from torch.utils.data import DataLoader, TensorDataset\n",
    "from sklearn.model_selection import train_test_split\n",
    "import numpy as np\n",
    "from tqdm import tqdm\n",
    "from sklearn.preprocessing import StandardScaler\n",
    "import sys\n",
    "sys.path.append(\"D:\\\\1st\\\\BPs_BPTK\\\\Python\") \n",
    "from BPS_init_function_MultiParas import BPS_BPTK_MultiParas\n",
    "import matplotlib.pyplot as plt\n",
    "plt.rcParams['font.sans-serif']=['SimHei'] # 用来正常显示中文标签\n",
    "plt.rcParams['axes.unicode_minus']=False # 用来正常显示负号\n",
    "from sklearn.metrics import r2_score\n",
    "import scipy.stats as stats\n",
    "import os\n",
    "os.chdir('d:\\\\1st\\\\BPs_BPTK')"
   ]
  },
  {
   "cell_type": "code",
   "execution_count": 2,
   "metadata": {},
   "outputs": [
    {
     "name": "stdout",
     "output_type": "stream",
     "text": [
      "[0.00576981 0.00876133]\n"
     ]
    }
   ],
   "source": [
    "X1 = np.load(\"Python\\ForwardFitNN\\WithTime\\Database\\ForwardInput_zzc.npy\")\n",
    "X2 = np.load(\"Python\\ForwardFitNN\\WithTime\\Database\\ForwardInput_SG.npy\")\n",
    "X =  np.vstack((X1,X2))\n",
    "y1 = np.load(\"Python\\ForwardFitNN\\WithTime\\Database\\ForwardLabel_zzc.npy\")  #输入标签数据\n",
    "y2 = np.load(\"Python\\ForwardFitNN\\WithTime\\Database\\ForwardLabel_SG.npy\")  #输入标签数据\n",
    "y = np.vstack((y1,y2))\n",
    "print(y[1,:])\n",
    "\n",
    "def standard_transform(x):\n",
    "    # 计算每个特征的均值\n",
    "    mean = x.mean(dim=0)\n",
    "    # 计算每个特征的标准差\n",
    "    std = x.std(dim=0, unbiased=False)  # unbiased=False 相当于 numpy 的 ddof=0\n",
    "    # 避免使用0的标准差\n",
    "    std[std == 0] = 1\n",
    "    # 进行标准化转换\n",
    "    x = (x - mean) / std\n",
    "    return x,mean,std\n",
    "\n",
    "def standard_transform_paras(x,mean,std):\n",
    "    \n",
    "    x = (x - mean) / std\n",
    "    return x\n",
    "\n",
    "\n",
    "def inverse_transform(x, mean, std):\n",
    "    # 将标准化后的张量乘以标准差，然后加上均值\n",
    "    x = x * std + mean\n",
    "    return x\n",
    "\n",
    "\n",
    "\n",
    "\n",
    "X = torch.tensor(X).float()\n",
    "y = torch.tensor(y).float()\n",
    "\n",
    "\n",
    "X,X_mean,X_std = standard_transform(X)\n",
    "y,y_mean,y_std = standard_transform(y)\n",
    "\n",
    "\n",
    "X_train, X_temp, y_train, y_temp = train_test_split(X, y, test_size=0.16, random_state=20)\n",
    "X_val, X_test, y_val, y_test = train_test_split(X_temp, y_temp, test_size=0.5, random_state=20)\n"
   ]
  },
  {
   "cell_type": "code",
   "execution_count": 3,
   "metadata": {},
   "outputs": [
    {
     "name": "stdout",
     "output_type": "stream",
     "text": [
      "tensor([ 0.4117,  0.3617, -1.5326,  0.8013])\n",
      "tensor([2.7052, 2.7038])\n"
     ]
    }
   ],
   "source": [
    "print(X_test[1,:])\n",
    "print(y_test[1,:])"
   ]
  },
  {
   "cell_type": "code",
   "execution_count": 4,
   "metadata": {},
   "outputs": [],
   "source": [
    "# 定义神经网络模型\n",
    "class ResNetBlock(nn.Module):\n",
    "    def __init__(self, hyperparas):\n",
    "        super(ResNetBlock, self).__init__()\n",
    "        \n",
    "        self.hidden_dim = hyperparas['hidden_dim']\n",
    "        self.block_layer_nums =hyperparas['block_layer_nums']\n",
    "            \n",
    "        # Define layers for the function f (MLP)\n",
    "        self.layers = nn.ModuleList()\n",
    "        \n",
    "        for _ in range(self.block_layer_nums - 1):  # -2 because we already added one layer and last layer is already defined\n",
    "            self.layers.append(nn.Linear(self.hidden_dim,self.hidden_dim ))\n",
    "        \n",
    "        # Layer normalization\n",
    "        self.layernorms = nn.ModuleList()\n",
    "        for _ in range(self.block_layer_nums - 1):  # -1 because layer normalization is not applied to the last layer\n",
    "            self.layernorms.append(nn.LayerNorm(self.hidden_dim))\n",
    "        \n",
    "    def forward(self, x):\n",
    "        # Forward pass through the function f (MLP)\n",
    "        out = x\n",
    "        for i in range(self.block_layer_nums - 1):  # -1 because last layer is already applied outside the loop\n",
    "            out = self.layers[i](out)\n",
    "            out = self.layernorms[i](out)\n",
    "            out = torch.relu(out)\n",
    "        \n",
    "        # Element-wise addition of input x and output of function f(x)\n",
    "        out = x + out\n",
    "        \n",
    "        return out\n",
    "    \n",
    "\n",
    "class CustomResNN(nn.Module):\n",
    "    def __init__(self,hyperparas):\n",
    "        super().__init__()\n",
    "        self.input_dim = hyperparas['input_dim'] #68\n",
    "        self.hidden_dim = hyperparas['hidden_dim'] #30\n",
    "        self.hidden_nums = hyperparas['hidden_nums'] #3\n",
    "        self.output_dim = hyperparas['output_dim'] #3\n",
    "        self.block_layer_nums = hyperparas['block_layer_nums'] #3\n",
    "\n",
    "        self.layer_list = []\n",
    "        self.layer_list.append(nn.Sequential(nn.Linear(self.input_dim,self.hidden_dim),nn.ReLU() ) )\n",
    "\n",
    "        for _ in range(self.hidden_nums-1):\n",
    "            self.layer_list.append(ResNetBlock(hyperparas))\n",
    "\n",
    "        self.layer_list.append(nn.Linear(self.hidden_dim,self.output_dim))\n",
    "\n",
    "        self.linear_Res_final = nn.Sequential(*self.layer_list)\n",
    "\n",
    "    def forward(self,inputs):\n",
    "        \n",
    "        return self.linear_Res_final(inputs)\n",
    "\n",
    "#超参数合集\n",
    "hyperparas = {'input_dim':4,'hidden_dim':50,'hidden_nums':5,'output_dim':2,'block_layer_nums':3}\n",
    "#hyperparas = {'input_dim':4,'hidden_dim':64,'hidden_nums':10,'output_dim':2,'block_layer_nums':3}\n",
    "learning_rate = 0.001\n",
    "num_epochs = 300\n",
    "\n",
    "bestmodel = CustomResNN(hyperparas)"
   ]
  },
  {
   "cell_type": "code",
   "execution_count": 5,
   "metadata": {},
   "outputs": [],
   "source": [
    "#best_model_path ='Python\\ForwardFitNN\\Temporary_Model\\model_pause1.pth'\n",
    "#best_model_path ='Python\\ForwardFitNN\\Temporary_Model\\model_pause2.pth'\n",
    "#best_model_path ='Python\\ForwardFitNN\\Temporary_Model\\model_pause3.pth'\n",
    "best_model_path ='Python\\ForwardFitNN\\Temporary_Model\\model_best.pth'\n",
    "#best_model_path ='Python\\ForwardFitNN\\Settled_Model\\Dual5plus10\\model1.pth'\n",
    "\n",
    "bestmodel.load_state_dict(torch.load(best_model_path))\n",
    "# 准备数据\n",
    "\n",
    "id = 0\n",
    "time = np.arange(0,75,0.005)"
   ]
  },
  {
   "cell_type": "code",
   "execution_count": 6,
   "metadata": {},
   "outputs": [],
   "source": [
    "#宽距取样\n",
    "mean1 = 17.28\n",
    "mean2 = 6.39\n",
    "mean3 = 5.7\n",
    "X1 = stats.truncnorm(-2, 2.3, loc=mean1, scale=5)\n",
    "x1 = X1.rvs(size = 6,random_state = 43)\n",
    "X2 = stats.truncnorm(-1, 1.3, loc=mean2, scale=5)\n",
    "x2 = X2.rvs(size = 5,random_state = 43)\n",
    "X3 = stats.truncnorm(-1, 1.2, loc=mean3, scale=5)\n",
    "x3 = X3.rvs(size = 5,random_state = 43)\n",
    "a= np.array(list(itertools.product(x1, x2, x3)))"
   ]
  },
  {
   "cell_type": "code",
   "execution_count": 7,
   "metadata": {},
   "outputs": [],
   "source": [
    "#窄距取样\n",
    "mean1 = 17.28\n",
    "mean2 = 6.39\n",
    "mean3 = 5.7\n",
    "X1 = stats.truncnorm(-2, 2, loc=mean1, scale=3)\n",
    "x1 = X1.rvs(size = 6,random_state = 43)\n",
    "X2 = stats.truncnorm(-1, 1.2, loc=mean2, scale=2)\n",
    "x2 = X2.rvs(size = 5,random_state = 43)\n",
    "X3 = stats.truncnorm(-1, 1.2, loc=mean3, scale=2)\n",
    "x3 = X3.rvs(size = 5,random_state = 43)\n",
    "a = np.array(list(itertools.product(x1, x2, x3)))"
   ]
  },
  {
   "cell_type": "code",
   "execution_count": 8,
   "metadata": {},
   "outputs": [],
   "source": [
    "#a = np.array([[16.2500,   8.8900,   5.5594]])"
   ]
  },
  {
   "cell_type": "code",
   "execution_count": 9,
   "metadata": {},
   "outputs": [
    {
     "name": "stderr",
     "output_type": "stream",
     "text": [
      "100%|██████████| 150/150 [00:17<00:00,  8.54it/s]\n"
     ]
    }
   ],
   "source": [
    "_,urine_true,urineg_true =BPS_BPTK_MultiParas(t = time,volunteer_ID =id, paras = a,mode = '63')"
   ]
  },
  {
   "cell_type": "code",
   "execution_count": 10,
   "metadata": {},
   "outputs": [
    {
     "name": "stdout",
     "output_type": "stream",
     "text": [
      "84\n"
     ]
    },
    {
     "name": "stderr",
     "output_type": "stream",
     "text": [
      "100%|██████████| 150/150 [00:00<00:00, 693.09it/s]"
     ]
    },
    {
     "name": "stdout",
     "output_type": "stream",
     "text": [
      "(12600, 2)\n",
      "(12600, 4)\n"
     ]
    },
    {
     "name": "stderr",
     "output_type": "stream",
     "text": [
      "\n"
     ]
    }
   ],
   "source": [
    "\n",
    "draw_rules = [(0, 200, 5), (200, 400, 15), (400, 600, 1), (600, 800, 1), (800, 1000, 1), (1000, 1200, 5), (1200, 1400, 1), (1400, 1600, 15), (1600, 2000, 1), (2000, 2400,5),\n",
    "              (2400, 3300, 5), (3300, 4200,5), (4200, 5100, 5), (5100, 6000, 5), (6000, 7500, 1), (7500, 9000,5), (9000, 10500, 1), (10500, 12000, 1),(12000, 13500, 5), (13500, 15000, 1)]\n",
    "\n",
    "drawnumber = sum(elem[2] for elem in draw_rules)\n",
    "print(drawnumber)\n",
    "ForwardInput = np.zeros((np.shape(a)[0]*drawnumber , 4))\n",
    "selected_cols = np.zeros((np.shape(a)[0],drawnumber)).astype(int)\n",
    "urine_true_slice = np.zeros((np.shape(a)[0],drawnumber))\n",
    "urineg_true_slice = np.zeros((np.shape(a)[0],drawnumber))\n",
    "for i in tqdm(range(np.shape(a)[0])):\n",
    "    np.random.seed(i+202)\n",
    "    j = 0\n",
    "    for start, end, num_select in draw_rules:\n",
    "        selected_indices = np.random.choice(range(start, end), size=num_select, replace=False)\n",
    "        selected_cols[i,j] =  (selected_indices.flatten())[0].astype(int)\n",
    "        j += 1\n",
    "    #print(selected_cols)\n",
    "    #print(type(selected_cols))\n",
    "    labeltimes = np.vstack([a[i,:]] * drawnumber)\n",
    "    ForwardInput[drawnumber*i:drawnumber*i+drawnumber, :] = np.hstack((labeltimes,np.reshape(selected_cols[i,:],(drawnumber,1))))\n",
    "    urine_true_slice[i,:] = urine_true[i,selected_cols[i,:]]\n",
    "    urineg_true_slice[i,:] = urineg_true[i,selected_cols[i,:]]\n",
    "\n",
    "\n",
    "urine_true_slice = urine_true_slice.flatten()   \n",
    "urineg_true_slice = urineg_true_slice.flatten()  \n",
    "#true_slice = np.hstack((urine_true_slice,urineg_true_slice))\n",
    "true_slice = np.hstack((np.reshape(urine_true_slice,(np.shape(urine_true_slice)[0],1)),np.reshape(urineg_true_slice,(np.shape(urineg_true_slice)[0],1))))\n",
    "\n",
    "print(true_slice.shape)\n",
    "\n",
    "print(ForwardInput.shape)\n",
    "ForwardInput =  torch.tensor(ForwardInput ).float()\n",
    "\n",
    "ForwardInput = standard_transform_paras(ForwardInput,X_mean,X_std)\n"
   ]
  },
  {
   "cell_type": "code",
   "execution_count": 11,
   "metadata": {},
   "outputs": [],
   "source": [
    "#ForwardInput = torch.tensor([[[ 0.4117,  0.3617, -1.5326,  0.8013]]]).float()"
   ]
  },
  {
   "cell_type": "code",
   "execution_count": 12,
   "metadata": {},
   "outputs": [
    {
     "name": "stdout",
     "output_type": "stream",
     "text": [
      "<built-in method type of Tensor object at 0x0000027AA2EF8F90>\n",
      "tensor([[ 2.2199e-03,  2.5677e-03],\n",
      "        [ 3.9387e-03,  5.3039e-03],\n",
      "        [ 1.0309e-02,  1.9911e-02],\n",
      "        ...,\n",
      "        [-7.9051e-06, -2.1502e-04],\n",
      "        [-7.9051e-06, -2.1502e-04],\n",
      "        [-7.9051e-06, -2.1502e-04]], grad_fn=<AddBackward0>)\n",
      "(12600, 2)\n",
      "5.407216044301661e-07\n"
     ]
    }
   ],
   "source": [
    "\n",
    "outputs = bestmodel(ForwardInput)\n",
    "\n",
    "print(outputs.type)\n",
    "\n",
    "outputs = inverse_transform(outputs, y_mean, y_std)\n",
    "print(outputs)\n",
    "\n",
    "outputs = outputs.detach().numpy()\n",
    "print(np.shape(outputs))\n",
    "MSE = np.mean((true_slice-outputs)**2)\n",
    "print(MSE)"
   ]
  },
  {
   "cell_type": "code",
   "execution_count": 13,
   "metadata": {},
   "outputs": [
    {
     "name": "stdout",
     "output_type": "stream",
     "text": [
      "(150, 84)\n"
     ]
    },
    {
     "data": {
      "image/png": "[encoded data removed]",
      "text/plain": [
       "<Figure size 640x480 with 1 Axes>"
      ]
     },
     "metadata": {},
     "output_type": "display_data"
    }
   ],
   "source": [
    "num =0\n",
    "print(np.shape(selected_cols))\n",
    "plt.plot(time,urine_true[num,], label='真实尿液bps')\n",
    "plt.scatter(selected_cols[num,:]/200, outputs[drawnumber*num:drawnumber*num+drawnumber,0], label='模型输出bps')\n",
    "plt.plot(time,urineg_true[num,], label='真实尿液bpsg')\n",
    "plt.scatter(selected_cols[num,:]/200, outputs[drawnumber*num:drawnumber*num+drawnumber,1], label='模型输出bpsg')\n",
    "\n",
    "plt.legend()\n",
    "plt.show()"
   ]
  }
 ],
 "metadata": {
  "kernelspec": {
   "display_name": "Python 3",
   "language": "python",
   "name": "python3"
  },
  "language_info": {
   "codemirror_mode": {
    "name": "ipython",
    "version": 3
   },
   "file_extension": ".py",
   "mimetype": "text/x-python",
   "name": "python",
   "nbconvert_exporter": "python",
   "pygments_lexer": "ipython3",
   "version": "3.10.9"
  }
 },
 "nbformat": 4,
 "nbformat_minor": 2
}

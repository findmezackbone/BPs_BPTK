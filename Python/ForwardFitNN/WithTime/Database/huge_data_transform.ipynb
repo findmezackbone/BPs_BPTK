{
 "cells": [
  {
   "cell_type": "code",
   "execution_count": 3,
   "metadata": {},
   "outputs": [],
   "source": [
    "import numpy as np\n",
    "import os\n",
    "os.chdir('d:\\\\1st\\\\BPs_BPTK')\n",
    "import sys\n",
    "sys.path.append(\"Python\") \n",
    "label = np.load(\"Python\\optim\\DataFromBPTK\\labels_zzc.npy\")\n",
    "data1 =  np.load(\"Python\\optim\\DataFromBPTK\\\\huge\\\\urinebps_zzc.npy\")\n",
    "data2 =  np.load(\"Python\\optim\\DataFromBPTK\\\\huge\\\\urinebpsg_zzc.npy\")"
   ]
  },
  {
   "cell_type": "code",
   "execution_count": 4,
   "metadata": {},
   "outputs": [
    {
     "name": "stderr",
     "output_type": "stream",
     "text": [
      "100%|██████████| 28800/28800 [00:40<00:00, 716.09it/s]"
     ]
    },
    {
     "name": "stdout",
     "output_type": "stream",
     "text": [
      "(576000, 2)\n",
      "(576000, 4)\n"
     ]
    },
    {
     "name": "stderr",
     "output_type": "stream",
     "text": [
      "\n"
     ]
    }
   ],
   "source": [
    "from tqdm import tqdm \n",
    "\n",
    "draw_rules = [(0, 200, 1), (200, 400, 1), (400, 600, 1), (600, 800, 1), (800, 1000, 1), (1000, 1200, 1), (1200, 1400, 1), (1400, 1600, 1), (1600, 2000, 1), (2000, 2400, 1),\n",
    "              (2400, 3300, 1), (3300, 4200, 1), (4200, 5100, 1), (5100, 6000, 1), (6000, 7500, 1), (7500, 9000, 1), (9000, 10500, 1), (10500, 12000, 1),(12000, 13500, 1), (13500, 15000, 1)]\n",
    "\n",
    "ForwardInput = np.zeros((np.shape(label)[0]*20 , 4))\n",
    "ForwardLabel = np.zeros((np.shape(label)[0]*20 , 2))\n",
    "for i in tqdm(range(np.shape(label)[0])):\n",
    "    np.random.seed(i)\n",
    "    selected_cols = np.ones((1,20)).flatten().astype(int)\n",
    "    j = 0\n",
    "    for start, end, num_select in draw_rules:\n",
    "        selected_indices = np.random.choice(range(start, end), size=num_select, replace=False)\n",
    "        selected_cols[j] =  (selected_indices.flatten())[0].astype(int)\n",
    "        j += 1\n",
    "    #print(selected_cols)\n",
    "    #print(type(selected_cols))\n",
    "    labeltimes = np.vstack([label[i,:]] * 20)\n",
    "   \n",
    "    ForwardInput[20*i:20*i+20, :] = np.hstack((labeltimes,np.reshape(selected_cols,(20,1))))\n",
    "    ForwardLabel[20*i:20*i+20, :] = np.hstack((np.reshape(data1[i,selected_cols],(20,1)),np.reshape(data2[i,selected_cols],(20,1))))\n",
    "\n",
    "print(np.shape(ForwardLabel))\n",
    "print(np.shape(ForwardInput))\n",
    "np.save(\"Python\\\\ForwardFitNN\\\\WithTime\\\\Database\\\\ForwardLabel_zzc.npy\",ForwardLabel)\n",
    "np.save(\"Python\\\\ForwardFitNN\\\\WithTime\\\\Database\\\\ForwardInput_zzc.npy\",ForwardInput)"
   ]
  }
 ],
 "metadata": {
  "kernelspec": {
   "display_name": "Python 3",
   "language": "python",
   "name": "python3"
  },
  "language_info": {
   "codemirror_mode": {
    "name": "ipython",
    "version": 3
   },
   "file_extension": ".py",
   "mimetype": "text/x-python",
   "name": "python",
   "nbconvert_exporter": "python",
   "pygments_lexer": "ipython3",
   "version": "3.10.9"
  }
 },
 "nbformat": 4,
 "nbformat_minor": 2
}
